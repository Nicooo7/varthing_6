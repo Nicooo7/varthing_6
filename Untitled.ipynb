{
 "cells": [
  {
   "cell_type": "code",
   "execution_count": 68,
   "metadata": {},
   "outputs": [],
   "source": [
    "from __future__ import print_function\n",
    "from ipywidgets import interact, interactive, fixed, interact_manual\n",
    "import ipywidgets as widgets"
   ]
  },
  {
   "cell_type": "code",
   "execution_count": 98,
   "metadata": {},
   "outputs": [
    {
     "data": {
      "application/vnd.jupyter.widget-view+json": {
       "model_id": "5a64ee5cb0f14c268cdac21863641a51",
       "version_major": 2,
       "version_minor": 0
      },
      "text/html": [
       "<p>Failed to display Jupyter Widget of type <code>interactive</code>.</p>\n",
       "<p>\n",
       "  If you're reading this message in Jupyter Notebook or JupyterLab, it may mean\n",
       "  that the widgets JavaScript is still loading. If this message persists, it\n",
       "  likely means that the widgets JavaScript library is either not installed or\n",
       "  not enabled. See the <a href=\"https://ipywidgets.readthedocs.io/en/stable/user_install.html\">Jupyter\n",
       "  Widgets Documentation</a> for setup instructions.\n",
       "</p>\n",
       "<p>\n",
       "  If you're reading this message in another notebook frontend (for example, a static\n",
       "  rendering on GitHub or <a href=\"https://nbviewer.jupyter.org/\">NBViewer</a>),\n",
       "  it may mean that your frontend doesn't currently support widgets.\n",
       "</p>\n"
      ],
      "text/plain": [
       "interactive(children=(Dropdown(description='x', options={'gmail': 'https://gmail.com', 'wikipedia': 'https://fr.m.wikipedia.org/wiki/Main_Page'}, value='https://gmail.com'), Output()), _dom_classes=('widget-interact',))"
      ]
     },
     "metadata": {},
     "output_type": "display_data"
    }
   ],
   "source": [
    "from IPython.display import *\n",
    "\n",
    "def f(x):\n",
    "    print(\"choisissez la valeur de x\",x) \n",
    "    return x\n",
    "\n",
    "resultat = interactive(f, x={'wikipedia': \"https://fr.m.wikipedia.org/wiki/Main_Page\", 'gmail': \"https://gmail.com\"});\n",
    "display (resultat)\n",
    "\n",
    "\n",
    "bouton= widgets.Button(\n",
    "    description='go !',\n",
    "    continuous_update=True,\n",
    "    disabled=False,\n",
    "    button_style='', # 'success', 'info', 'warning', 'danger' or ''\n",
    "    tooltip='Click me',\n",
    "    icon='check'\n",
    ")\n",
    "\n",
    "\n",
    "\n",
    "web = HTML('<IFrame src=' + adresse + ' width=700 height=350>')\n",
    "\n",
    "\n",
    "\n",
    "def on_bouton_clicked(b):\n",
    "    \n",
    "    print (\"appuyé\")\n",
    "    adresse = resultat.result\n",
    "    #web = HTML('<IFrame src=' + adresse + ' width=700 height=350>')\n",
    "    print(web)\n",
    "    display(web)\n",
    "   \n",
    "    \n",
    "bouton.on_click(on_bouton_clicked)    \n",
    "    \n",
    "\n",
    "\n",
    "\n",
    "#\n",
    "#HTML('<IFrame src=\"https://fr.m.wikipedia.org/wiki/Main_Page\" width=700 height=350>')\n"
   ]
  },
  {
   "cell_type": "code",
   "execution_count": 99,
   "metadata": {},
   "outputs": [
    {
     "data": {
      "application/vnd.jupyter.widget-view+json": {
       "model_id": "f05177fff23348fa9b71e820a3698b78",
       "version_major": 2,
       "version_minor": 0
      },
      "text/html": [
       "<p>Failed to display Jupyter Widget of type <code>Button</code>.</p>\n",
       "<p>\n",
       "  If you're reading this message in Jupyter Notebook or JupyterLab, it may mean\n",
       "  that the widgets JavaScript is still loading. If this message persists, it\n",
       "  likely means that the widgets JavaScript library is either not installed or\n",
       "  not enabled. See the <a href=\"https://ipywidgets.readthedocs.io/en/stable/user_install.html\">Jupyter\n",
       "  Widgets Documentation</a> for setup instructions.\n",
       "</p>\n",
       "<p>\n",
       "  If you're reading this message in another notebook frontend (for example, a static\n",
       "  rendering on GitHub or <a href=\"https://nbviewer.jupyter.org/\">NBViewer</a>),\n",
       "  it may mean that your frontend doesn't currently support widgets.\n",
       "</p>\n"
      ],
      "text/plain": [
       "Button(description='go !', icon='check', style=ButtonStyle(), tooltip='Click me')"
      ]
     },
     "metadata": {},
     "output_type": "display_data"
    },
    {
     "name": "stdout",
     "output_type": "stream",
     "text": [
      "appuyé\n",
      "<IPython.core.display.HTML object>\n"
     ]
    },
    {
     "data": {
      "text/html": [
       "<IFrame src=https://gmail.com width=700 height=350>"
      ],
      "text/plain": [
       "<IPython.core.display.HTML object>"
      ]
     },
     "metadata": {},
     "output_type": "display_data"
    },
    {
     "name": "stdout",
     "output_type": "stream",
     "text": [
      "appuyé\n",
      "<IPython.core.display.HTML object>\n"
     ]
    },
    {
     "data": {
      "text/html": [
       "<IFrame src=https://gmail.com width=700 height=350>"
      ],
      "text/plain": [
       "<IPython.core.display.HTML object>"
      ]
     },
     "metadata": {},
     "output_type": "display_data"
    }
   ],
   "source": [
    "display(bouton)"
   ]
  },
  {
   "cell_type": "code",
   "execution_count": 100,
   "metadata": {},
   "outputs": [
    {
     "data": {
      "application/javascript": [
       "this.model.get('count');\n",
       "this.model.set('count', 999);\n",
       "this.touch();\n",
       "\n",
       "/////////////////////////////////\n",
       "\n",
       "this.colorpicker = document.createElement('input');\n",
       "this.colorpicker.setAttribute('type', 'color');\n",
       "this.el.appendChild(this.colorpicker);"
      ],
      "text/plain": [
       "<IPython.core.display.Javascript object>"
      ]
     },
     "metadata": {},
     "output_type": "display_data"
    }
   ],
   "source": [
    "%%javascript\n",
    "this.model.get('count');\n",
    "this.model.set('count', 999);\n",
    "this.touch();\n",
    "\n",
    "/////////////////////////////////\n",
    "\n",
    "this.colorpicker = document.createElement('input');\n",
    "this.colorpicker.setAttribute('type', 'color');\n",
    "this.el.appendChild(this.colorpicker);"
   ]
  },
  {
   "cell_type": "code",
   "execution_count": 2,
   "metadata": {},
   "outputs": [
    {
     "name": "stdout",
     "output_type": "stream",
     "text": [
      "/Users/nicolas/Desktop/depot/Varthing\n"
     ]
    }
   ],
   "source": [
    "cd varthing"
   ]
  }
 ],
 "metadata": {
  "anaconda-cloud": {},
  "kernelspec": {
   "display_name": "Python [Root]",
   "language": "python",
   "name": "Python [Root]"
  },
  "language_info": {
   "codemirror_mode": {
    "name": "ipython",
    "version": 3
   },
   "file_extension": ".py",
   "mimetype": "text/x-python",
   "name": "python",
   "nbconvert_exporter": "python",
   "pygments_lexer": "ipython3",
   "version": "3.5.2"
  }
 },
 "nbformat": 4,
 "nbformat_minor": 2
}
